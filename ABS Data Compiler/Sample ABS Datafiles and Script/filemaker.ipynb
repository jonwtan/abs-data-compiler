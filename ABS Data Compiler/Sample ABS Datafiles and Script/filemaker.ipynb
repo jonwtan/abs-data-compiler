{
 "cells": [
  {
   "cell_type": "code",
   "execution_count": 1,
   "metadata": {},
   "outputs": [],
   "source": [
    "import glob\n",
    "import csv\n",
    "import pandas as pd"
   ]
  },
  {
   "cell_type": "code",
   "execution_count": 2,
   "metadata": {},
   "outputs": [
    {
     "data": {
      "text/plain": [
       "47"
      ]
     },
     "execution_count": 2,
     "metadata": {},
     "output_type": "execute_result"
    }
   ],
   "source": [
    "# TO USER: enter the address of the output file to create\n",
    "output_file = \"C:/../ABS Data Compiler/SampleOutput/PassengerVehicles.csv\"       \n",
    "\n",
    "outfile = open(output_file, 'w')\n",
    "\n",
    "# TO USER: Enter fields in this file. This is the .csv's header\n",
    "outfile.write(\"Suburb , 2011, 2012, 2013, 2014 , 2015 , 2016 \\n\")          \n"
   ]
  },
  {
   "cell_type": "code",
   "execution_count": 3,
   "metadata": {},
   "outputs": [],
   "source": [
    "for filename in glob.glob('*.csv'):       # goes through each .csv file to input in the folder\n",
    "\n",
    "    if filename == output_file:           # Skips the file we're writing\n",
    "        continue\n",
    "    \n",
    "    # creates dataframe 'X' from input csv file, assigns columns, and creates new dataframe 'Y' with only the measure you want\n",
    "    X = pd.read_csv(filename, encoding = \"latin1\")\n",
    "    X.columns = [\"Time\", \"Value\", \"Measure\", \"Description\"]\n",
    "    \n",
    "    # TO USER: Replace 'MVC_14' with the key/measure you want\n",
    "    Y = X.loc[ X[\"Measure\"] == \"MVC_14\" ]\n",
    "    \n",
    "    # edits the filename to remove the word '.csv' before writing into csv output file\n",
    "    filename = filename.replace(\".csv\", \"\")\n",
    "    outfile.write(\"%s ,\" % filename)\n",
    "    \n",
    "    # writes each element into the csv output file, plus a comma to separate it. Once done, it goes to the next line\n",
    "    for a in Y[\"Value\"]:\n",
    "        outfile.write(\"%d ,\" % a)\n",
    "\n",
    "    outfile.write(\"\\n\")\n",
    "    "
   ]
  },
  {
   "cell_type": "code",
   "execution_count": 4,
   "metadata": {},
   "outputs": [],
   "source": [
    "outfile.close()"
   ]
  },
  {
   "cell_type": "code",
   "execution_count": null,
   "metadata": {},
   "outputs": [],
   "source": []
  }
 ],
 "metadata": {
  "kernelspec": {
   "display_name": "Python 3",
   "language": "python",
   "name": "python3"
  },
  "language_info": {
   "codemirror_mode": {
    "name": "ipython",
    "version": 3
   },
   "file_extension": ".py",
   "mimetype": "text/x-python",
   "name": "python",
   "nbconvert_exporter": "python",
   "pygments_lexer": "ipython3",
   "version": "3.6.5"
  }
 },
 "nbformat": 4,
 "nbformat_minor": 2
}
